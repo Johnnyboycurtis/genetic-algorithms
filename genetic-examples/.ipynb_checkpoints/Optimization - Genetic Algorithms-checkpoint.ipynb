{
 "cells": [
  {
   "cell_type": "markdown",
   "metadata": {},
   "source": [
    "# Global Optimization\n",
    "\n",
    "Optimization tasks are usually focused on finding a global maximum (or minimum). Sometimes deterministic search methods get stuck in a local optimum and never find the global optimal solution. Stochastic methods, such as Monte Carlo methods, can improve search methods by helping algorithms escape these local optimal solution in order to move closer towards the global optimal solution. \n",
    "\n",
    "In most real-world tasks, you may never find the global maximum, but usually the closer we get the better.\n",
    "\n",
    "\n",
    "![alt text](hills_copy.png \"Maximization Problem\")\n"
   ]
  },
  {
   "cell_type": "markdown",
   "metadata": {},
   "source": [
    "# Genetic Algorithms\n",
    "\n",
    "> Genetic algorithms (GAs) are stochastic search algorithms inspired by the basic principles of biological evolution and natural selection. GAs simulate the evolution of living organisms, where the fittest individuals dominate over the weaker ones, by mimicking the biological mechanisms of evolution, such as selection, crossover, and mutation.\n",
    "\n",
    "[GA: A Package for Genetic Algorithms in R](https://cran.r-project.org/web/packages/GA/vignettes/GA.html)\n",
    "\n",
    "\n",
    "## Basic hill climbing (local search) algorithm\n",
    "\n",
    "Given a function $f(\\cdot)$ we're trying to maximize (or minimize)\n",
    "\n",
    "1. $x_0$ = starting solution (can be random)\n",
    "\n",
    "2. for i in 1:N, do\n",
    "\n",
    "    1. look around the neighborhood of $x_{i-1}$ by some $\\delta$, and evaluate $f(x \\pm \\delta)$\n",
    "    \n",
    "    2. Choose the neightbor with the highest (or lowest) value for $f(\\cdot)$\n",
    "\n",
    "3. Return the $x_i$ value with the highest (or lowest) value of $f(\\cdot)$. This will usually be the last value as the hill climbing algorithm never chooses a step that does not improve in $f(\\cdot)$; therefore, it will never climb down (or up) from a local maximum (or minimum).\n",
    "\n",
    "An improvement on the above algorithm is one with random restarts, but that still faces the problem of never actually escaping a local optimum."
   ]
  },
  {
   "cell_type": "markdown",
   "metadata": {},
   "source": [
    "## Genetic Algorithm for numerical optimization\n",
    "\n",
    "\n",
    "\n",
    "GAs use evolutionary strategies inspired by the basic principles of biological evolution. At the start of the algorithm, a population is initialized with individuals (or units) of varying `fitness`. Each inividual is made up of genes, features, or characters which control the inheritance of one or several characters. \n",
    "\n",
    "The fitness of each individual is evaluated and over time the fittest individuals reproduce, passing\n",
    "their genetic information to their offspring. Thus, with the selection operator, GAs mimic the behavior of natural organisms in a competitive environment, in which only the most qualified and their offspring survive. \n",
    "\n",
    "Two important issues in the evolution process of GAs search are exploration and exploitation. Exploration is the creation of population diversity by exploring the search space, and is obtained by genetic operators, such as mutation and crossover. \n",
    "\n",
    "- Crossover forms new offsprings from two parent chromosomes by combining part of the genetic information from each. On the contrary, mutation is a genetic operator that randomly alters the values of genes in a parent chromosome. \n",
    "\n",
    "- Exploitation aims at reducing the diversity in the population by selecting at each stage the individuals with higher fitness (not allowing selection to be dictated by chance).\n",
    "\n",
    "- Often an elitist strategy is also employed, by allowing the fittest individuals to persist into the next generation in case they did not survive (resampled).\n",
    "\n",
    "### Some General GA Steps\n",
    "\n",
    "The algorithm we will follow is simple. Given a `fitness function`, $f(\\cdot)$ we are trying to maximize, and for a certain number of generations, $N$, do the following\n",
    "\n",
    "1. Initialize the population with characteristics you'd like to explore (can be random or predetermined); `parents`\n",
    "\n",
    "2. Calculate the fitness of all units/individuals in the population\n",
    "\n",
    "    1. (Optional) Keep track of the fittest individual(s) throughout all generations\n",
    "\n",
    "3. Sample the `parents` with sampling weights based on fitness (i.e. those with greater fitness have greater likelihood of being resampled); these will be used to create `children` for the next generation\n",
    "\n",
    "    4. With some `mutation rate` mutate the `parents`\n",
    "\n",
    "    5. (Optional) With some `crossover rate` select pairs of `parents` and randomly combine characteristics\n",
    "\n",
    "4. The population from steps 4-5 become the `children` from the previous generation. Repeate steps 2-4."
   ]
  },
  {
   "cell_type": "code",
   "execution_count": null,
   "metadata": {},
   "outputs": [],
   "source": []
  },
  {
   "cell_type": "markdown",
   "metadata": {},
   "source": [
    "The following example was inspired by the **GA** R package. Refer to this [link](https://cran.r-project.org/web/packages/GA/vignettes/GA.html) for details about genetic algorithms with R."
   ]
  },
  {
   "cell_type": "code",
   "execution_count": 1,
   "metadata": {},
   "outputs": [],
   "source": [
    "import numpy as np\n",
    "import matplotlib.pyplot as plt\n",
    "\n",
    "\n",
    "def _fitness(x):\n",
    "    #x = np.array(x)\n",
    "    if x > -11 and x < 11:\n",
    "        y = (x**2+x)*np.cos(2*x) + x**2\n",
    "        return round(y, 6)\n",
    "    else:\n",
    "        return 0\n",
    "\n",
    "fitness = np.vectorize(_fitness)"
   ]
  },
  {
   "cell_type": "code",
   "execution_count": 2,
   "metadata": {},
   "outputs": [
    {
     "data": {
      "text/plain": [
       "[<matplotlib.lines.Line2D at 0x7ff11c3314e0>]"
      ]
     },
     "execution_count": 2,
     "metadata": {},
     "output_type": "execute_result"
    },
    {
     "data": {
      "image/png": "[encoded data removed]",
      "text/plain": [
       "<Figure size 432x288 with 1 Axes>"
      ]
     },
     "metadata": {},
     "output_type": "display_data"
    }
   ],
   "source": [
    "x = np.linspace(start=-20, stop=20, num=200) ## population range\n",
    "plt.plot(x, fitness(x))"
   ]
  },
  {
   "cell_type": "code",
   "execution_count": null,
   "metadata": {},
   "outputs": [],
   "source": []
  },
  {
   "cell_type": "markdown",
   "metadata": {},
   "source": [
    "### GA Optimization\n",
    "\n",
    "We need to modify the above generic algorithm for our numerical problem\n",
    "\n",
    "\n",
    "The algorithm we will follow is simple. Given a `fitness function`, $h(x) = (x^2 + x) \\times cos(2x) + x^2$ we are trying to maximize, and for a certain number of generations, $N$, do the following\n",
    "\n",
    "1. Initialize `parents` by creating an array of uniformly distributed values over the domain of $h(x)$.\n",
    "\n",
    "2. Calculate the fitness of all units/individuals in the population\n",
    "\n",
    "    1. Keep track of the fittest individual(s) throughout all generations\n",
    "\n",
    "3. Sample the `parents` with sampling weights based on fitness (i.e. those with greater fitness have greater likelihood of being resampled); these will be used to create `children` for the next generation\n",
    "\n",
    "    4. With some `mutation rate` mutate the `parents`\n",
    "\n",
    "    5. (Optional) With some `crossover rate` select pairs of `parents` and randomly combine characteristics\n",
    "\n",
    "4. The population from steps 4-5 become the `children` from the previous generation. Repeate steps 2-4.\n",
    "\n",
    "In this example, everyone has 1 attribute or chromosome, that's their current value. \n",
    "\n",
    "In the `mutation` step, we'll generate $\\epsilon$ from some symmetrical distribution. This can be a uniform or Normal distribution. Then, for every unit in the current population, we'll add (or subtract) $\\epsilon$.\n",
    "\n",
    "We'll skip `crossover` in this example."
   ]
  },
  {
   "cell_type": "code",
   "execution_count": 3,
   "metadata": {},
   "outputs": [],
   "source": [
    "def mutate(parents, fitness_function):\n",
    "    n = int(len(parents))\n",
    "    scores = fitness_function(parents)\n",
    "    idx = scores > 0 ## positive values only\n",
    "    scores = scores[idx]\n",
    "    parents = np.array(parents)[idx]\n",
    "    ## resample parents with probabilities proportional to fitness\n",
    "    ## then, add some noise for 'random' mutation\n",
    "    children = np.random.choice(parents, size=n, p = scores / scores.sum()) \n",
    "    children = children + np.random.uniform(-0.51,0.51, size=n)  # add some noise to mutate\n",
    "    return children.tolist() ## convert array to list\n",
    "    "
   ]
  },
  {
   "cell_type": "code",
   "execution_count": null,
   "metadata": {},
   "outputs": [],
   "source": []
  },
  {
   "cell_type": "code",
   "execution_count": 4,
   "metadata": {},
   "outputs": [],
   "source": [
    "def GA(parents, fitness_function, popsize = 100, max_iter = 100):\n",
    "    History = []\n",
    "    ## initial parents; gen zero\n",
    "    best_parent, best_fitness = _get_fittest_parent(parents, fitness) # extract fittest individual\n",
    "    print('generation {}| best fitness {}| current fitness {} | current_parent {}'.format(0, best_fitness, best_fitness, best_parent))\n",
    "    \n",
    "    # first plot the initial parents\n",
    "    x = np.linspace(start=-20, stop=20, num=200) ## population range\n",
    "    plt.plot(x, fitness_function(x))\n",
    "    plt.scatter(parents, fitness_function(parents), marker= 'x')    \n",
    "    \n",
    "    ## for each next generation\n",
    "    for i in range(1, max_iter):\n",
    "        parents = mutate(parents, fitness_function=fitness_function)\n",
    "        \n",
    "        curr_parent, curr_fitness = _get_fittest_parent(parents, fitness_function) # extract fittest individual\n",
    "    \n",
    "        # update best fitness values\n",
    "        if curr_fitness > best_fitness:\n",
    "            best_fitness = curr_fitness \n",
    "            best_parent = curr_parent \n",
    "            \n",
    "        curr_parent, curr_fitness = _get_fittest_parent(parents, fitness_function)\n",
    "        if i % 10 == 0:\n",
    "            print('generation {}| best fitness {}| current fitness {} | current_parent {}'.format(i, best_fitness, curr_fitness, curr_parent))\n",
    "        History.append((i, np.max(fitness_function(parents)))) # save generation MAX fitness   \n",
    "    \n",
    "    plt.scatter(parents, fitness_function(parents))\n",
    "    plt.scatter(best_parent, fitness_function(best_parent), marker = '.', c = 'b', s = 200)\n",
    "    plt.pause(0.09)\n",
    "    plt.ioff()\n",
    "    ## return best parents\n",
    "    print('generation {}| best fitness {}| best_parent {}'.format(i, best_fitness, best_parent))\n",
    "        \n",
    "    return best_parent, best_fitness, History\n",
    "\n"
   ]
  },
  {
   "cell_type": "code",
   "execution_count": 5,
   "metadata": {},
   "outputs": [],
   "source": [
    "def _get_fittest_parent(parents, fitness):\n",
    "    _fitness = fitness(parents)\n",
    "    PFitness = list(zip(parents, _fitness))\n",
    "    PFitness.sort(key = lambda x: x[1], reverse=True)\n",
    "    best_parent, best_fitness = PFitness[0]\n",
    "    return round(best_parent, 4), round(best_fitness, 4)"
   ]
  },
  {
   "cell_type": "code",
   "execution_count": 6,
   "metadata": {},
   "outputs": [],
   "source": [
    "x = np.linspace(start=-20, stop=20, num=200) ## population range\n",
    "init_pop = np.random.uniform(low = -20, high = 20, size=100)"
   ]
  },
  {
   "cell_type": "markdown",
   "metadata": {},
   "source": [
    "The algorithm will run for a total of 100 generations, with 100% mutation. The initial population was generate uniformly from the domain of $h$, with a size of 100 units."
   ]
  },
  {
   "cell_type": "code",
   "execution_count": 7,
   "metadata": {},
   "outputs": [
    {
     "ename": "NameError",
     "evalue": "name 'find_best_fit' is not defined",
     "output_type": "error",
     "traceback": [
      "\u001b[0;31m---------------------------------------------------------------------------\u001b[0m",
      "\u001b[0;31mNameError\u001b[0m                                 Traceback (most recent call last)",
      "\u001b[0;32m<ipython-input-7-45e6d0699acc>\u001b[0m in \u001b[0;36m<module>\u001b[0;34m()\u001b[0m\n\u001b[0;32m----> 1\u001b[0;31m \u001b[0mparent_\u001b[0m\u001b[0;34m,\u001b[0m \u001b[0mfitness_\u001b[0m\u001b[0;34m,\u001b[0m \u001b[0mhistory_\u001b[0m \u001b[0;34m=\u001b[0m \u001b[0mfind_best_fit\u001b[0m\u001b[0;34m(\u001b[0m\u001b[0minit_pop\u001b[0m\u001b[0;34m,\u001b[0m \u001b[0mfitness\u001b[0m\u001b[0;34m,\u001b[0m  \u001b[0m_mutate\u001b[0m\u001b[0;34m)\u001b[0m\u001b[0;34m\u001b[0m\u001b[0m\n\u001b[0m\u001b[1;32m      2\u001b[0m \u001b[0mprint\u001b[0m\u001b[0;34m(\u001b[0m\u001b[0;34m'top parent {}, top fitness {}'\u001b[0m\u001b[0;34m.\u001b[0m\u001b[0mformat\u001b[0m\u001b[0;34m(\u001b[0m\u001b[0mparent_\u001b[0m\u001b[0;34m,\u001b[0m \u001b[0mfitness_\u001b[0m\u001b[0;34m)\u001b[0m\u001b[0;34m)\u001b[0m\u001b[0;34m\u001b[0m\u001b[0m\n",
      "\u001b[0;31mNameError\u001b[0m: name 'find_best_fit' is not defined"
     ]
    }
   ],
   "source": [
    "parent_, fitness_, history_ = GA(init_pop, fitness,  _mutate)\n",
    "print('top parent {}, top fitness {}'.format(parent_, fitness_))"
   ]
  },
  {
   "cell_type": "markdown",
   "metadata": {},
   "source": [
    "Above you can see the function $h$, and the initial population represented by the `x` markers on the plot. The orange dots represent the final population, and blue dot at the top represents the fittest value across all generations.\n",
    "\n",
    "So it's clear to see that the GA was able to explore the domain of our fitness function, and find its way to the global optimum via stochastic steps.\n",
    "\n",
    "Below is the maximum fitness over time. You can see it does fluctuate over time."
   ]
  },
  {
   "cell_type": "code",
   "execution_count": null,
   "metadata": {},
   "outputs": [],
   "source": [
    "x, y = list(zip(*history_))\n",
    "plt.plot(x, y)\n",
    "plt.title('Maximum Fitness')\n",
    "plt.xlabel(\"Generation\")\n",
    "plt.ylabel(\"Fitness\")"
   ]
  },
  {
   "cell_type": "markdown",
   "metadata": {},
   "source": [
    "Now run the `GA-Optimization-Example.py` script to see how the population evolves over time."
   ]
  },
  {
   "cell_type": "code",
   "execution_count": null,
   "metadata": {},
   "outputs": [],
   "source": []
  }
 ],
 "metadata": {
  "kernelspec": {
   "display_name": "Python 3",
   "language": "python",
   "name": "python3"
  },
  "language_info": {
   "codemirror_mode": {
    "name": "ipython",
    "version": 3
   },
   "file_extension": ".py",
   "mimetype": "text/x-python",
   "name": "python",
   "nbconvert_exporter": "python",
   "pygments_lexer": "ipython3",
   "version": "3.6.5"
  }
 },
 "nbformat": 4,
 "nbformat_minor": 2
}
